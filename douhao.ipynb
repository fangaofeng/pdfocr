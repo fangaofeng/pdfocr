{
 "cells": [
  {
   "cell_type": "code",
   "execution_count": null,
   "metadata": {},
   "outputs": [],
   "source": [
    "import os\n",
    "import pandas as pd\n",
    "def formatnumber(t):\n",
    "    if not isinstance(t,str) :\n",
    "        return  t\n",
    "    t= t.replace('.','')\n",
    "    t= t.replace(',','')\n",
    "    t= t.replace('，','')\n",
    "    t= t.replace('、','')\n",
    "\n",
    "    if(len(t)>2):\n",
    "        tt =''.join([t[:-2],'.',t[-2:]])\n",
    "    elif len(t) >=1:\n",
    "        \n",
    "        tt =''.join([t,'.00'])\n",
    "    else:\n",
    "        tt = t\n",
    "    return tt\n",
    "fpathe = 'j:/农业/'\n",
    "print(\"处理 {} excel\".format(fpathe))\n",
    "\n",
    "for fpath,dirs,fs in os.walk(fpathe):\n",
    "    \n",
    "    for file in fs:\n",
    "        fname,extension = os.path.splitext(file)\n",
    "        \n",
    "        if extension != '.xlsx':\n",
    "            continue\n",
    "        print(\"---- {} is start---\".format(file))\n",
    "        filepath = os.path.join(fpathe,file)\n",
    "        dframe = pd.read_excel(filepath, sheet_name=fname)\n",
    "        for index,rows in dframe.iterrows():\n",
    "            dframe.iloc[index,2] = formatnumber(rows[2])\n",
    "\n",
    "            dframe.iloc[index,3] = formatnumber(rows[3])\n",
    "\n",
    "\n",
    "        dframe.to_excel(os.path.join(fpathe,fname+'t'+extension))"
   ]
  },
  {
   "cell_type": "code",
   "execution_count": 19,
   "metadata": {},
   "outputs": [],
   "source": [
    "fpathe = 'j:/农业/'\n",
    "file='abc7416_页面_12.xlsx'\n",
    "filepath = os.path.join(fpathe,file)\n",
    "fname,extension = os.path.splitext(file)\n",
    "dframe = pd.read_excel(filepath, sheet_name=fname)\n",
    "for index,rows in dframe.iterrows():\n",
    "    dframe.iloc[index,2] = formatnumber(rows[2])\n",
    "\n",
    "    dframe.iloc[index,3] = formatnumber(rows[3])\n",
    "\n",
    "\n",
    "dframe.to_excel(os.path.join(fpathe,fname+'t'+extension))"
   ]
  }
 ],
 "metadata": {
  "kernelspec": {
   "display_name": "Python 3",
   "language": "python",
   "name": "python3"
  },
  "language_info": {
   "codemirror_mode": {
    "name": "ipython",
    "version": 3
   },
   "file_extension": ".py",
   "mimetype": "text/x-python",
   "name": "python",
   "nbconvert_exporter": "python",
   "pygments_lexer": "ipython3",
   "version": "3.7.6"
  }
 },
 "nbformat": 4,
 "nbformat_minor": 4
}
